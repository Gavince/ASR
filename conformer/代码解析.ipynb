{
 "cells": [
  {
   "cell_type": "code",
   "execution_count": null,
   "id": "12ab04c7-c589-4477-ab80-b30bcd0e4fed",
   "metadata": {},
   "outputs": [],
   "source": []
  }
 ],
 "metadata": {
  "kernelspec": {
   "display_name": "Python 3.8.5 ('base')",
   "language": "python",
   "name": "python3"
  },
  "language_info": {
   "codemirror_mode": {
    "name": "ipython",
    "version": 3
   },
   "file_extension": ".py",
   "mimetype": "text/x-python",
   "name": "python",
   "nbconvert_exporter": "python",
   "pygments_lexer": "ipython3",
   "version": "3.8.5"
  },
  "vscode": {
   "interpreter": {
    "hash": "3f74f1d374668add262d34776946ea43b16533d8e50d7f731c6817d55d178d40"
   }
  }
 },
 "nbformat": 4,
 "nbformat_minor": 5
}
